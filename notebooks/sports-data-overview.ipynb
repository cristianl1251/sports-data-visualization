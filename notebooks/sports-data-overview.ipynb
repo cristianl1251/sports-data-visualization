{
 "cells": [
  {
   "cell_type": "markdown",
   "metadata": {
    "slideshow": {
     "slide_type": "slide"
    }
   },
   "source": [
    "# Sports Data Visualization"
   ]
  },
  {
   "cell_type": "markdown",
   "metadata": {
    "slideshow": {
     "slide_type": "slide"
    }
   },
   "source": [
    "# Goal"
   ]
  },
  {
   "cell_type": "markdown",
   "metadata": {
    "slideshow": {
     "slide_type": "fragment"
    }
   },
   "source": [
    "### Present three categories of sports data:\n",
    "   - Box score data;\n",
    "   - Tracking data;\n",
    "   - Metadata.\n",
    "    "
   ]
  },
  {
   "cell_type": "markdown",
   "metadata": {
    "slideshow": {
     "slide_type": "fragment"
    }
   },
   "source": [
    "### Show problems on analysing real data using Python:\n",
    "   - Where to find datasets;\n",
    "   - Present Python libraries;\n",
    "   - Expose benefits on getting the hands dirty."
   ]
  },
  {
   "cell_type": "markdown",
   "metadata": {
    "slideshow": {
     "slide_type": "fragment"
    }
   },
   "source": [
    "### Present Footstats Premium:\n",
    "   - Tool for analysing soccer data."
   ]
  },
  {
   "cell_type": "markdown",
   "metadata": {
    "slideshow": {
     "slide_type": "slide"
    }
   },
   "source": [
    "# Sports Data Overview"
   ]
  },
  {
   "cell_type": "markdown",
   "metadata": {
    "slideshow": {
     "slide_type": "fragment"
    }
   },
   "source": [
    "\n",
    "## Box score data\n",
    "- Data containing statistical summaries of a sport event such as a game.\n",
    "- e.g. errors, hits in baseball; goals and shots on goal in soccer."
   ]
  },
  {
   "cell_type": "markdown",
   "metadata": {
    "slideshow": {
     "slide_type": "fragment"
    }
   },
   "source": [
    "## Tracking data\n",
    "- Data about in-game actions and trajectories.\n",
    "- e.g. players trajectories in soccer; shot distribution and density in basketball."
   ]
  },
  {
   "cell_type": "markdown",
   "metadata": {
    "slideshow": {
     "slide_type": "fragment"
    }
   },
   "source": [
    "## Metadata\n",
    "- Data about the sport and its participants but not necessarily a given game.\n",
    "- e.g. rules, stadium capacities, physical characteristics of players, team badges, sponsor information, tweets."
   ]
  },
  {
   "cell_type": "markdown",
   "metadata": {
    "slideshow": {
     "slide_type": "slide"
    }
   },
   "source": [
    "# Footstats Premium\n",
    "\n",
    "- Footstats & SAS developped a powerful tool for analysing teams, players and championship performances.\n",
    "<br>\n",
    "<br>\n",
    "- [Footstats Premium](http://meu.footstats.net/home)"
   ]
  }
 ],
 "metadata": {
  "celltoolbar": "Slideshow",
  "kernelspec": {
   "display_name": "Python 3",
   "language": "python",
   "name": "python3"
  },
  "language_info": {
   "codemirror_mode": {
    "name": "ipython",
    "version": 3
   },
   "file_extension": ".py",
   "mimetype": "text/x-python",
   "name": "python",
   "nbconvert_exporter": "python",
   "pygments_lexer": "ipython3",
   "version": "3.6.5"
  }
 },
 "nbformat": 4,
 "nbformat_minor": 2
}
