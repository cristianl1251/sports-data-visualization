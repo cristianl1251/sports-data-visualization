{
 "cells": [
  {
   "cell_type": "markdown",
   "metadata": {},
   "source": [
    "# Tracking Data\n",
    "   - Data about in-game actions and trajectories. \n",
    "   <br>\n",
    "   <br>\n",
    "   - Most tracking data is collected by utilizing machine vision to gather precise spatio-temporal information.\n",
    "   <br>\n",
    "   <br>\n",
    "   - Can be independent from the sport itself.\n"
   ]
  },
  {
   "attachments": {},
   "cell_type": "markdown",
   "metadata": {},
   "source": [
    "### Events and Trajectories\n",
    "   - Often adopting a third-person perspective on the data\n",
    "   <br>\n",
    "   <br>\n",
    "   - **Types of Visualization:**\n",
    "       - Event density map.\n",
    "       - Events representation.\n",
    "       - Trajectories.\n",
    "       - Detailed events with context.\n",
    "       - Real-time.\n",
    "       \n",
    "       <div style=\"text-align:center\"><img width=\"1200px\" src=\"./images/basketball_shot_distribution_density.png\"/></div>\n",
    "       <br>\n",
    "       <br>\n",
    "       <div style=\"text-align:center\">Figure 1: Shot distribution and density in CourtVision (Goldsberry K., 2012).</div>"
   ]
  },
  {
   "cell_type": "markdown",
   "metadata": {},
   "source": [
    "### Players’ point of view\n",
    "   - Often adopting a first-person perspective on the data\n",
    "   <br>\n",
    "   <br>\n",
    "   - **Types of Visualization:**\n",
    "       - First-person.\n",
    "       - Embedded tracking and visualization.\n",
    "       \n",
    "       \n",
    "<div style=\"text-align:center\"><img width=\"500px\" src=\"./images/penalty_shooter_point_of_view.png\"/></div>\n",
    "<br>\n",
    "<br>\n",
    "<div style=\"text-align:center\">Figure 2: A penalty shooter’s point of view is reconstructed in 3D, showing her favorite target areas around the goalkeeper (Rusu A., Stoica D., Burns E.).</div>"
   ]
  },
  {
   "cell_type": "code",
   "execution_count": null,
   "metadata": {},
   "outputs": [],
   "source": [
    "import pandas as pd\n",
    "import numpy as np\n",
    "import matplotlib.pyplot as plt\n",
    "import seaborn as sns\n",
    "sns.set_context(\"notebook\")\n",
    "import warnings\n",
    "warnings.simplefilter('ignore', DeprecationWarning)\n",
    "pd.options.mode.chained_assignment = None"
   ]
  },
  {
   "cell_type": "markdown",
   "metadata": {},
   "source": [
    "# Detailed NFL Play-by-Play Data (2009-2017)"
   ]
  },
  {
   "cell_type": "markdown",
   "metadata": {},
   "source": [
    "## Load Data"
   ]
  },
  {
   "cell_type": "markdown",
   "metadata": {},
   "source": [
    "Dataset: https://www.kaggle.com/maxhorowitz/nflplaybyplay2009to2016\n",
    "\n",
    "Source: https://www.kaggle.com/carrie1/nfl-te-qb-duo-performance"
   ]
  },
  {
   "cell_type": "code",
   "execution_count": null,
   "metadata": {},
   "outputs": [],
   "source": [
    "df = pd.read_csv('../datasets/nflplaybyplay2009to2016/NFL Play by Play 2009-2017 (v4).csv')\n",
    "df.head(5)"
   ]
  },
  {
   "cell_type": "markdown",
   "metadata": {},
   "source": [
    "### Data cleaning"
   ]
  },
  {
   "cell_type": "code",
   "execution_count": null,
   "metadata": {},
   "outputs": [],
   "source": [
    "columns = [\"Date\", \"posteam\", \"desc\", \"PassAttempt\", \"ydsnet\", \"sp\"]\n",
    "df = df[columns]\n",
    "df.head(10)"
   ]
  },
  {
   "cell_type": "code",
   "execution_count": null,
   "metadata": {},
   "outputs": [],
   "source": [
    "# Find Dallas plays with Witten and Romo in them\n",
    "witten_romo = df[(df[\"posteam\"] == 'DAL')  & (df[\"desc\"].str.contains(\"J.Witten\")) &\n",
    "                 (df[\"desc\"].str.contains(\"T.Romo\")) & (df['PassAttempt'] == 1)]\n",
    "# Find New England plays with Brady and the Gronk\n",
    "gronk_brady = df[(df[\"posteam\"] == 'NE') & (df[\"desc\"].str.contains(\"T.Brady\")) &\n",
    "                 (df[\"desc\"].str.contains(\"R.Gronkowski\")) & (df['PassAttempt'] == 1)]\n",
    "# Find Titans plays with Walker and Mariota\n",
    "walker_mariota = df[(df[\"posteam\"] == 'TEN') & (df[\"desc\"].str.contains(\"D.Walker\")) &\n",
    "                    (df[\"desc\"].str.contains(\"M.Mariota\")) & (df['PassAttempt'] == 1)]\n",
    "# Find New England plays with Brady and the Gronk\n",
    "gronk_brady = df[(df[\"posteam\"] == 'NE') & (df[\"desc\"].str.contains(\"T.Brady\")) &\n",
    "                 (df[\"desc\"].str.contains(\"R.Gronkowski\")) & (df['PassAttempt'] == 1)]\n",
    "# Find Bengals plays with Eifert & Dalton\n",
    "eifert_dalton = df[(df[\"posteam\"] == 'CIN') & (df[\"desc\"].str.contains(\"T.Eifert\")) & \n",
    "               (df[\"desc\"].str.contains(\"A.Dalton\")) & (df['PassAttempt'] == 1)]\n",
    "# Find Carolina plays with Eifert & Dalton\n",
    "olsen_cam = df[(df[\"posteam\"] == 'CAR') & (df[\"desc\"].str.contains(\"G.Olsen\")) & \n",
    "               (df[\"desc\"].str.contains(\"C.Newton\")) & (df['PassAttempt'] == 1)]\n",
    "# Find Chargers plays with Gates and Rivers\n",
    "gates_rivers = df[(df[\"posteam\"] == 'SD') & (df[\"desc\"].str.contains(\"A.Gates\")) & \n",
    "               (df[\"desc\"].str.contains(\"P.Rivers\")) & (df['PassAttempt'] == 1)]\n",
    "# Find Saints plays with Graham and Brees\n",
    "graham_brees = df[(df[\"posteam\"] == 'NO') & (df[\"desc\"].str.contains(\"J.Graham\")) & \n",
    "               (df[\"desc\"].str.contains(\"D.Brees\")) & (df['PassAttempt'] == 1)]\n",
    "# Find Seattle plays with Graham and Wilson\n",
    "graham_wilson = df[(df[\"posteam\"] == 'SEA') & (df[\"desc\"].str.contains(\"J.Graham\")) & \n",
    "               (df[\"desc\"].str.contains(\"R.Wilson\")) & (df['PassAttempt'] == 1)]\n",
    "# Find Philadelphia plays with Bradford and Ertz\n",
    "bradford_ertz = df[(df[\"posteam\"] == 'PHI') & (df[\"desc\"].str.contains(\"S.Bradford\")) & \n",
    "               (df[\"desc\"].str.contains(\"Z.Ertz\")) & (df['PassAttempt'] == 1)]\n",
    "# Find Detroit plays with Stafford and Ebron\n",
    "ebron_staff = df[(df[\"posteam\"] == 'DET') & (df[\"desc\"].str.contains(\"M.Stafford\")) & \n",
    "               (df[\"desc\"].str.contains(\"E.Ebron\")) & (df['PassAttempt'] == 1)]\n",
    "# Find Jacksonville plays with Bortles and Thomas\n",
    "thomas_bortles = df[(df[\"posteam\"] == 'JAC') & (df[\"desc\"].str.contains(\"B.Bortles\")) & \n",
    "               (df[\"desc\"].str.contains(\"J.Thomas\")) & (df['PassAttempt'] == 1)]\n",
    "# Find Kansas City plays with Smith and Kelce\n",
    "smith_kelce = df[(df[\"posteam\"] == 'KC') & (df[\"desc\"].str.contains(\"A.Smith\")) & \n",
    "               (df[\"desc\"].str.contains(\"T.Kelce\")) & (df['PassAttempt'] == 1)]"
   ]
  },
  {
   "cell_type": "code",
   "execution_count": null,
   "metadata": {},
   "outputs": [],
   "source": [
    "witten_romo['duo'] = 'Witten & Romo'\n",
    "gronk_brady['duo'] = 'Gronkowski & Brady'\n",
    "olsen_cam['duo'] = 'Olsen & Newton'\n",
    "eifert_dalton['duo'] = 'Eifter & Dalton'\n",
    "walker_mariota['duo'] = 'Walker & Mariota'\n",
    "gates_rivers['duo'] ='Gates & Rivers'\n",
    "graham_brees['duo'] ='Graham & Brees'\n",
    "graham_wilson['duo'] ='Graham & Wilson'\n",
    "bradford_ertz['duo'] = 'Ertz & Bradford'\n",
    "ebron_staff['duo']= 'Ebron & Stafford'\n",
    "thomas_bortles['duo'] = 'Thomas & Bortles'\n",
    "smith_kelce['duo']= 'Kelce & Smith'\n",
    "\n",
    "\n",
    "frames = [gronk_brady, witten_romo, olsen_cam, eifert_dalton, walker_mariota, gates_rivers,\n",
    "          graham_brees,graham_wilson,bradford_ertz,ebron_staff,thomas_bortles,smith_kelce]\n",
    "df2 = pd.concat(frames)\n",
    "df2.head(10)"
   ]
  },
  {
   "cell_type": "markdown",
   "metadata": {},
   "source": [
    "### Data statistics"
   ]
  },
  {
   "cell_type": "code",
   "execution_count": null,
   "metadata": {},
   "outputs": [],
   "source": [
    "df2[\"duo\"].value_counts()"
   ]
  },
  {
   "cell_type": "code",
   "execution_count": null,
   "metadata": {},
   "outputs": [],
   "source": [
    "df2['Season'] = df2['Date'].str[:4]\n",
    "ct = pd.crosstab(df2['duo'], df2['Season'])\n",
    "plt.figure(figsize=(10, 8))\n",
    "ax = sns.heatmap(ct, annot=True, fmt=\"d\").set_title('Number of Pass Plays Per Season')"
   ]
  },
  {
   "cell_type": "markdown",
   "metadata": {},
   "source": [
    "## Net Yards per Play"
   ]
  },
  {
   "cell_type": "markdown",
   "metadata": {},
   "source": [
    "**Net Yards:** This statistic is calculated by subtracting a team's starting position on the field from the team's ending field position"
   ]
  },
  {
   "cell_type": "markdown",
   "metadata": {},
   "source": [
    "**Swarm Plot:** Draw a categorical scatterplot with non-overlapping points. "
   ]
  },
  {
   "cell_type": "code",
   "execution_count": null,
   "metadata": {},
   "outputs": [],
   "source": [
    "plt.figure(figsize=(10, 25))\n",
    "ax = sns.swarmplot(x=\"ydsnet\", y=\"duo\", hue=\"sp\", data=df2, size=4)\n",
    "leg = plt.legend(bbox_to_anchor=(1.05, 1), loc=2)"
   ]
  },
  {
   "cell_type": "markdown",
   "metadata": {},
   "source": [
    "Done!"
   ]
  }
 ],
 "metadata": {
  "kernelspec": {
   "display_name": "Python 3",
   "language": "python",
   "name": "python3"
  },
  "language_info": {
   "codemirror_mode": {
    "name": "ipython",
    "version": 3
   },
   "file_extension": ".py",
   "mimetype": "text/x-python",
   "name": "python",
   "nbconvert_exporter": "python",
   "pygments_lexer": "ipython3",
   "version": "3.6.5"
  }
 },
 "nbformat": 4,
 "nbformat_minor": 2
}
