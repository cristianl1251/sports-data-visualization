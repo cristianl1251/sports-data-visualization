{
 "cells": [
  {
   "cell_type": "markdown",
   "metadata": {},
   "source": [
    "# Meta-data"
   ]
  },
  {
   "cell_type": "markdown",
   "metadata": {},
   "source": [
    "- Data about the sport and its participants but not necessarily a given game.\n",
    "<br>\n",
    "<br>\n",
    "- Such data might concern rules, stadium capacities, physical characteristics of players, kit colors, team badges, sponsor information, tweets, etc.\n",
    "<br>\n",
    "<br>\n",
    "- Can be independent from the sport itself."
   ]
  },
  {
   "cell_type": "markdown",
   "metadata": {},
   "source": [
    "##  Sports, Players, and Game Characteristics"
   ]
  },
  {
   "cell_type": "markdown",
   "metadata": {},
   "source": [
    "- Meta-data plays an important role to convey a sport’s identity and rules.\n",
    "<br>\n",
    "<br>\n",
    "- **Types of Visualization:**\n",
    "    - Sport recognition.\n",
    "    - Players and Teams Differentiation.\n",
    "    - Game highlights."
   ]
  },
  {
   "cell_type": "markdown",
   "metadata": {},
   "source": [
    "## Players’ and Teams’ Performance"
   ]
  },
  {
   "cell_type": "markdown",
   "metadata": {},
   "source": [
    "- Meta-data may augment sports data with details that are not captured by collected data and that can be used to create performance indicators.\n",
    "<br>\n",
    "<br>\n",
    "- **Types of Visualization:**\n",
    "    - Player performances.\n",
    "    - Team tactics and affinities.\n",
    "    - Expected performance.\n",
    "\n",
    "    <div style=\"text-align:center\"><img width=\"500px\" src=\"./images/age_champion_grand_slam.png\"/></div>\n",
    "    <br>\n",
    "    <br>\n",
    "    <div style=\"text-align:center\">Figure 1: Breakthrough champions are getting older. From Five Thirty Eight (Morris B., 2016).</div>"
   ]
  },
  {
   "cell_type": "markdown",
   "metadata": {},
   "source": [
    "## Competition Structure\n",
    "- Tournament trees describe competitions and are the second-most widely used competition structure behind rankings.\n",
    "<br>\n",
    "<br>\n",
    "- **Types of Visualization:**\n",
    "    - Visualizing the tree structure of tournaments.\n",
    "    - Supporting tournament predictions.\n",
    "    \n",
    "    <div style=\"text-align:center\"><img width=\"500px\" src=\"./images/prediction_correcteness_tournament_bracket.png\"/></div>\n",
    "    <br>\n",
    "    <br>\n",
    "    <div style=\"text-align:center\">Figure 2: AdaptiviTree for visualizing prediction correctness on top of a tournament bracket using colored bars (Tan D., Smith G., Lee B., Robertson G., 2007).</div>"
   ]
  },
  {
   "cell_type": "code",
   "execution_count": null,
   "metadata": {},
   "outputs": [],
   "source": [
    "import pandas as pd\n",
    "import numpy as np\n",
    "import matplotlib.pyplot as plt\n",
    "import seaborn as sns"
   ]
  },
  {
   "cell_type": "markdown",
   "metadata": {},
   "source": [
    "# FIFA World Cup 2018 Tweets"
   ]
  },
  {
   "cell_type": "markdown",
   "metadata": {},
   "source": [
    "Dataset: https://www.kaggle.com/rgupta09/world-cup-2018-tweets"
   ]
  },
  {
   "cell_type": "markdown",
   "metadata": {},
   "source": [
    "## Load Data"
   ]
  },
  {
   "cell_type": "code",
   "execution_count": null,
   "metadata": {},
   "outputs": [],
   "source": [
    "df1 = pd.read_csv('../datasets/world-cup-2018-tweets/FIFA.csv')\n",
    "df1.head(5)"
   ]
  },
  {
   "cell_type": "markdown",
   "metadata": {},
   "source": [
    "# English Premier League Players"
   ]
  },
  {
   "cell_type": "markdown",
   "metadata": {},
   "source": [
    "Dataset: https://www.kaggle.com/mauryashubham/english-premier-league-players-dataset"
   ]
  },
  {
   "cell_type": "markdown",
   "metadata": {},
   "source": [
    "## Load Data"
   ]
  },
  {
   "cell_type": "code",
   "execution_count": null,
   "metadata": {},
   "outputs": [],
   "source": [
    "df2 = pd.read_csv('../datasets/english-premier-league-players-dataset-201718/epldata_final.csv')\n",
    "df2.head(5)"
   ]
  },
  {
   "cell_type": "markdown",
   "metadata": {},
   "source": [
    "Done!"
   ]
  }
 ],
 "metadata": {
  "kernelspec": {
   "display_name": "Python 3",
   "language": "python",
   "name": "python3"
  },
  "language_info": {
   "codemirror_mode": {
    "name": "ipython",
    "version": 3
   },
   "file_extension": ".py",
   "mimetype": "text/x-python",
   "name": "python",
   "nbconvert_exporter": "python",
   "pygments_lexer": "ipython3",
   "version": "3.6.5"
  }
 },
 "nbformat": 4,
 "nbformat_minor": 2
}
